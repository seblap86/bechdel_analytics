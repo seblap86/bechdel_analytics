{
 "cells": [
  {
   "cell_type": "code",
   "execution_count": null,
   "id": "c502b74e",
   "metadata": {},
   "outputs": [],
   "source": [
    "import pandas as pd"
   ]
  },
  {
   "cell_type": "markdown",
   "id": "3ee060db",
   "metadata": {},
   "source": [
    "## Cleaning and preparing the Bechdel score file\n",
    "Original file: bechdel_movies_2023_FEB.csv"
   ]
  },
  {
   "cell_type": "code",
   "execution_count": null,
   "id": "ae10807d",
   "metadata": {},
   "outputs": [],
   "source": [
    "bechdel = pd.read_csv('bechdel_movies_2023_FEB.csv')"
   ]
  },
  {
   "cell_type": "code",
   "execution_count": null,
   "id": "78a12441",
   "metadata": {},
   "outputs": [],
   "source": [
    "# Checking for duplicates (no duplicates)\n",
    "bechdel.duplicated().sum()"
   ]
  },
  {
   "cell_type": "code",
   "execution_count": null,
   "id": "21ed52ea",
   "metadata": {},
   "outputs": [],
   "source": [
    "# Stripping leading and trailing whitespace in all string variables\n",
    "bechdel = bechdel.apply(lambda x: x.strip() if isinstance(x, str) else x)"
   ]
  },
  {
   "cell_type": "code",
   "execution_count": null,
   "id": "efb7ceda",
   "metadata": {},
   "outputs": [],
   "source": [
    "# Removing rows where dubious = 1 (these are contested scores, about 10% of the dataset)\n",
    "bechdel = bechdel[bechdel['dubious'] == 0]"
   ]
  },
  {
   "cell_type": "code",
   "execution_count": null,
   "id": "8c80221d",
   "metadata": {},
   "outputs": [],
   "source": [
    "# Moving the year into the title name (as in IMDB) to reduce duplicate names\n",
    "title_list = list(bechdel['title'])\n",
    "year_list = list(bechdel['year'])\n",
    "\n",
    "title_and_year_list = [f'{title_list[i]} ({year_list[i]})' for i in range(len(title_list))]\n",
    "bechdel['title'] = title_and_year_list\n",
    "\n",
    "# Check: Number has drastically reduced (but there are still 3 values -> individual treatment below)\n",
    "bechdel['title'].value_counts().head(7)"
   ]
  },
  {
   "cell_type": "code",
   "execution_count": null,
   "id": "7853fd95",
   "metadata": {},
   "outputs": [],
   "source": [
    "# Individual treatment of title 1 (we drop both duplicates as the ratings are different, i.e., \"dubious\")\n",
    "bechdel = bechdel.drop([8892, 9111])"
   ]
  },
  {
   "cell_type": "code",
   "execution_count": null,
   "id": "73f659fd",
   "metadata": {},
   "outputs": [],
   "source": [
    "# Individual check for title 2 (we drop one duplicate but keep the entry as the rating is the same)\n",
    "bechdel = bechdel.drop(951)"
   ]
  },
  {
   "cell_type": "code",
   "execution_count": null,
   "id": "d0688b5b",
   "metadata": {},
   "outputs": [],
   "source": [
    "# Individual treatment for title 3 (we drop both duplicates as the ratings are different, i.e., \"dubious\")\n",
    "bechdel = bechdel.drop([259, 270])"
   ]
  },
  {
   "cell_type": "code",
   "execution_count": null,
   "id": "b7c38516",
   "metadata": {},
   "outputs": [],
   "source": [
    "# Dropping columns...\n",
    "# - \"year\" to avoid redundancy (year information will be provided in the movies_info table)\n",
    "# - \"imdbid\" as sadly the IMDB ID is not provided in the IMDB movie list we use for the movies_info table\n",
    "# - \"submitterid\" as this is information we do not need for our business case\n",
    "# - \"visible\" as every value here is == 1\n",
    "# - \"dubious\" as we removed all dubious == 1\n",
    "\n",
    "bechdel = bechdel.drop(['year', 'imdbid', 'submitterid', 'visible', 'dubious'],axis=1)"
   ]
  },
  {
   "cell_type": "code",
   "execution_count": null,
   "id": "d478c179",
   "metadata": {},
   "outputs": [],
   "source": [
    "# Creating a pass/not pass column for the bechdel test result\n",
    "bechdel['bechdel_pass'] = bechdel['rating'].apply(lambda x: 1 if x == 3 else 0)"
   ]
  },
  {
   "cell_type": "code",
   "execution_count": null,
   "id": "df60186e",
   "metadata": {},
   "outputs": [],
   "source": [
    "# Extracting only the year from the date\n",
    "bechdel['date'] = bechdel['date'].apply(lambda x: int(x[0:4]))"
   ]
  },
  {
   "cell_type": "code",
   "execution_count": null,
   "id": "76a96a93",
   "metadata": {},
   "outputs": [],
   "source": [
    "# Re-ordering and renaming\n",
    "bechdel = bechdel[['id','title','rating','bechdel_pass', 'date']]\n",
    "bechdel.columns = ['bechdel_ID', 'title', 'bechdel_score', 'bechdel_pass', 'rating_year']"
   ]
  },
  {
   "cell_type": "code",
   "execution_count": null,
   "id": "3ef81a8d",
   "metadata": {},
   "outputs": [],
   "source": [
    "# Ordering the file after ID and re-indexing\n",
    "bechdel = bechdel.sort_values(by=['bechdel_ID']).reset_index(drop = True)"
   ]
  },
  {
   "cell_type": "code",
   "execution_count": null,
   "id": "bf5bc2a4",
   "metadata": {},
   "outputs": [],
   "source": [
    "# Checking if data types are correct (all correct)\n",
    "bechdel.dtypes"
   ]
  },
  {
   "cell_type": "code",
   "execution_count": null,
   "id": "19b5b68f",
   "metadata": {},
   "outputs": [],
   "source": [
    "# Checking for missing values (none)\n",
    "bechdel.isna().sum()"
   ]
  },
  {
   "cell_type": "code",
   "execution_count": null,
   "id": "c2bfacd1",
   "metadata": {},
   "outputs": [],
   "source": [
    "# Adding the movie_info_ID as foreign key - calling up the cleaned movie_info table\n",
    "imdb = pd.read_csv('imdb_clean.csv')"
   ]
  },
  {
   "cell_type": "code",
   "execution_count": null,
   "id": "b3c45525",
   "metadata": {
    "scrolled": true
   },
   "outputs": [],
   "source": [
    "# Merging (outer join)\n",
    "bechdel_w_foreign_key = pd.merge(bechdel, imdb, on='title', how='left')"
   ]
  },
  {
   "cell_type": "code",
   "execution_count": null,
   "id": "bf1be1f3",
   "metadata": {},
   "outputs": [],
   "source": [
    "# Dropping unnecessary columns\n",
    "bechdel_w_foreign_key = bechdel_w_foreign_key.drop(['year', 'imdb_score', 'original_language', 'budget', 'revenue', 'country'],axis=1)"
   ]
  },
  {
   "cell_type": "code",
   "execution_count": null,
   "id": "ea93b7ec",
   "metadata": {},
   "outputs": [],
   "source": [
    "# Saving the cleaned bechdel file with movie_info_ID included\n",
    "bechdel_w_foreign_key.to_csv('bechdel.csv', index=False)"
   ]
  },
  {
   "cell_type": "markdown",
   "id": "704a8f4d",
   "metadata": {},
   "source": [
    "## Cleaning and preparing the IMDB movies file\n",
    "Original file: imdb_movies.csv"
   ]
  },
  {
   "cell_type": "code",
   "execution_count": null,
   "id": "7a7af9df",
   "metadata": {},
   "outputs": [],
   "source": [
    "imdb = pd.read_csv('imdb_movies.csv', skipinitialspace = True)"
   ]
  },
  {
   "cell_type": "code",
   "execution_count": null,
   "id": "55ff67e2",
   "metadata": {},
   "outputs": [],
   "source": [
    "# Dropping unnecessary columns\n",
    "imdb.drop([\"genre\", \"overview\", \"crew\", \"orig_title\",\"status\",], axis=1, inplace=True)"
   ]
  },
  {
   "cell_type": "code",
   "execution_count": null,
   "id": "1e21bcc7",
   "metadata": {},
   "outputs": [],
   "source": [
    "# Rename columns\n",
    "imdb.columns = ['title', 'year', 'imdb_score', 'original_language', 'budget', 'revenue','country']"
   ]
  },
  {
   "cell_type": "code",
   "execution_count": null,
   "id": "318b69fd",
   "metadata": {},
   "outputs": [],
   "source": [
    "# Transforming datatypes\n",
    "imdb[\"budget\"] = imdb[\"budget\"].astype(int)\n",
    "imdb[\"revenue\"] = imdb[\"revenue\"].astype(int)\n",
    "imdb[\"year\"] = imdb[\"year\"].astype(str)"
   ]
  },
  {
   "cell_type": "code",
   "execution_count": null,
   "id": "f4b32330",
   "metadata": {},
   "outputs": [],
   "source": [
    "# Creating an ID (as primary key)\n",
    "imdb['movie_info_ID'] = range(1, len(imdb) + 1)"
   ]
  },
  {
   "cell_type": "code",
   "execution_count": null,
   "id": "e03d0028",
   "metadata": {},
   "outputs": [],
   "source": [
    "# Extracting the year out of the former date / now year column\n",
    "imdb['year_only'] = imdb['year'].apply(lambda x: x.split('/')[2] if type(x)==str else x)"
   ]
  },
  {
   "cell_type": "code",
   "execution_count": null,
   "id": "fbe88de5",
   "metadata": {},
   "outputs": [],
   "source": [
    "# Re-ordering columns\n",
    "new_column_order = ['movie_info_ID','year_only', 'title', 'imdb_score', 'original_language', 'budget', 'revenue', 'country']\n",
    "\n",
    "imdb = imdb[new_column_order]"
   ]
  },
  {
   "cell_type": "code",
   "execution_count": null,
   "id": "e1547894",
   "metadata": {},
   "outputs": [],
   "source": [
    "# Renaming (new) year column\n",
    "imdb = imdb.rename(columns={\"year_only\":\"year\"})"
   ]
  },
  {
   "cell_type": "code",
   "execution_count": null,
   "id": "7f748c4f",
   "metadata": {},
   "outputs": [],
   "source": [
    "# Moving the year into the title name (as in IMDB)\n",
    "title_list = list(imdb['title'])\n",
    "year_list = list(imdb['year'])\n",
    "title_and_year_list = [f'{title_list[i]} ({year_list[i]})' for i in range(len(title_list))]\n",
    "imdb['title'] = title_and_year_list"
   ]
  },
  {
   "cell_type": "code",
   "execution_count": null,
   "id": "96fe2810",
   "metadata": {},
   "outputs": [],
   "source": [
    "# Dropping duplicates (after some previous exploration of their nature - first duplicate seemed to be most reliable)\n",
    "imdb.drop_duplicates(subset=['title'], inplace= True)"
   ]
  },
  {
   "cell_type": "code",
   "execution_count": null,
   "id": "6b217eea",
   "metadata": {},
   "outputs": [],
   "source": [
    "# Cleaning up the title column (some whitespaces were left)\n",
    "imdb['title'] = imdb['title'].apply(lambda x: x.replace(\" )\", \")\"))"
   ]
  },
  {
   "cell_type": "code",
   "execution_count": null,
   "id": "05ae8efd",
   "metadata": {},
   "outputs": [],
   "source": [
    "# Transforming inappropriate datatypes\n",
    "imdb[\"year\"] = imdb[\"year\"].astype(int)\n",
    "imdb[\"imdb_score\"] = imdb[\"imdb_score\"].astype(int)"
   ]
  },
  {
   "cell_type": "code",
   "execution_count": null,
   "id": "cc26c607",
   "metadata": {},
   "outputs": [],
   "source": [
    "# Check: Datatypes are now correct\n",
    "imdb.dtypes"
   ]
  },
  {
   "cell_type": "code",
   "execution_count": null,
   "id": "023cb4c2",
   "metadata": {},
   "outputs": [],
   "source": [
    "# Checking for missing values (none)\n",
    "imdb.isna().sum()"
   ]
  },
  {
   "cell_type": "code",
   "execution_count": null,
   "id": "fe26d9f3",
   "metadata": {},
   "outputs": [],
   "source": [
    "# Re-ordering columns\n",
    "new_column_order_2 = ['movie_info_ID','title', 'year', 'imdb_score', 'original_language', 'budget', 'revenue', 'country']\n",
    "imdb = imdb[new_column_order_2]"
   ]
  },
  {
   "cell_type": "code",
   "execution_count": null,
   "id": "e021ec24",
   "metadata": {},
   "outputs": [],
   "source": [
    "imdb.to_csv('movie_info.csv', index=False)"
   ]
  },
  {
   "cell_type": "markdown",
   "id": "1a62ef8b",
   "metadata": {},
   "source": [
    "## Preparing the additional two tables related to genre information\n",
    "Note: The first steps were the same as above, but with the genres column left in place. Changes are marked with comments."
   ]
  },
  {
   "cell_type": "code",
   "execution_count": null,
   "id": "f3d81871",
   "metadata": {},
   "outputs": [],
   "source": [
    "df = pd.read_csv('imdb_movies.csv', skipinitialspace = True)"
   ]
  },
  {
   "cell_type": "code",
   "execution_count": null,
   "id": "2c405326",
   "metadata": {},
   "outputs": [],
   "source": [
    "df.drop([\"overview\", \"crew\", \"orig_title\",\"status\",], axis=1, inplace=True)"
   ]
  },
  {
   "cell_type": "code",
   "execution_count": null,
   "id": "2d196db1",
   "metadata": {},
   "outputs": [],
   "source": [
    "# Here, genre is left in the columns (we excluded it at this point when preparing the movie_info file above)\n",
    "df.columns = ['title', 'year', 'imdb_score', 'genre','original_language', 'budget', 'revenue','country']"
   ]
  },
  {
   "cell_type": "code",
   "execution_count": null,
   "id": "38f93a3a",
   "metadata": {},
   "outputs": [],
   "source": [
    "df[\"budget\"] = df[\"budget\"].astype(int)\n",
    "df[\"revenue\"] = df[\"revenue\"].astype(int)\n",
    "df[\"year\"] = df[\"year\"].astype(str)"
   ]
  },
  {
   "cell_type": "code",
   "execution_count": null,
   "id": "f7df2504",
   "metadata": {},
   "outputs": [],
   "source": [
    "df['movie_info_ID'] = range(1, len(df) + 1)"
   ]
  },
  {
   "cell_type": "code",
   "execution_count": null,
   "id": "503ee54f",
   "metadata": {},
   "outputs": [],
   "source": [
    "df['year_only'] = df['year'].apply(lambda x: x.split('/')[2] if type(x)==str else x)"
   ]
  },
  {
   "cell_type": "code",
   "execution_count": null,
   "id": "02ce70b1",
   "metadata": {},
   "outputs": [],
   "source": [
    "new_column_order = ['movie_info_ID','year_only', 'title', 'imdb_score', 'original_language', 'budget', 'revenue', 'country', 'genre']\n",
    "df = df[new_column_order]"
   ]
  },
  {
   "cell_type": "code",
   "execution_count": null,
   "id": "64b201a5",
   "metadata": {},
   "outputs": [],
   "source": [
    "df = df.rename(columns={\"year_only\":\"year\"})"
   ]
  },
  {
   "cell_type": "code",
   "execution_count": null,
   "id": "036bcebb",
   "metadata": {},
   "outputs": [],
   "source": [
    "title_list = list(df['title'])\n",
    "year_list = list(df['year'])\n",
    "title_and_year_list = [f'{title_list[i]} ({year_list[i]})' for i in range(len(title_list))]\n",
    "df['title'] = title_and_year_list"
   ]
  },
  {
   "cell_type": "code",
   "execution_count": null,
   "id": "5218a92c",
   "metadata": {},
   "outputs": [],
   "source": [
    "df.drop_duplicates(subset=['title'], inplace= True)"
   ]
  },
  {
   "cell_type": "code",
   "execution_count": null,
   "id": "922dacef",
   "metadata": {},
   "outputs": [],
   "source": [
    "df['title'] = df['title'].apply(lambda x: x.replace(\" )\", \")\"))"
   ]
  },
  {
   "cell_type": "code",
   "execution_count": null,
   "id": "60902ca2",
   "metadata": {},
   "outputs": [],
   "source": [
    "df[\"year\"] = df[\"year\"].astype(int)\n",
    "df[\"imdb_score\"] = df[\"imdb_score\"].astype(int)"
   ]
  },
  {
   "cell_type": "code",
   "execution_count": null,
   "id": "9a9d7dc4",
   "metadata": {},
   "outputs": [],
   "source": [
    "# Replacing missing values in genre column (imputing)\n",
    "df['genre'] = df['genre'].fillna('Other/unspecified')"
   ]
  },
  {
   "cell_type": "code",
   "execution_count": null,
   "id": "13c664be",
   "metadata": {},
   "outputs": [],
   "source": [
    "new_column_order_2 = ['movie_info_ID','title', 'year', 'imdb_score', 'original_language', 'budget', 'revenue', 'country', 'genre']\n",
    "df = df[new_column_order_2]"
   ]
  },
  {
   "cell_type": "code",
   "execution_count": null,
   "id": "adcbba3a",
   "metadata": {},
   "outputs": [],
   "source": [
    "df_clean = df.drop([\"genre\"], axis=1)"
   ]
  },
  {
   "cell_type": "markdown",
   "id": "748f549e",
   "metadata": {},
   "source": [
    "#### Additional transformations/preparations"
   ]
  },
  {
   "cell_type": "code",
   "execution_count": null,
   "id": "513d353d",
   "metadata": {},
   "outputs": [],
   "source": [
    "# First reduction of columns\n",
    "movie_genre = df.copy()\n",
    "movie_genre = movie_genre[['movie_info_ID', 'title', 'genre']]"
   ]
  },
  {
   "cell_type": "code",
   "execution_count": null,
   "id": "c97777d9",
   "metadata": {},
   "outputs": [],
   "source": [
    "# Getting rid of whitespace-type spaces in the genre column (otherwise leads to issues later)\n",
    "movie_genre['genre'] = movie_genre['genre'].apply(lambda x: x.replace(\"\\xa0\",\"\") if type(x)==str else x)"
   ]
  },
  {
   "cell_type": "code",
   "execution_count": null,
   "id": "398b04ce",
   "metadata": {},
   "outputs": [],
   "source": [
    "# Creating a long format out of lists in genre column\n",
    "movie_genre['genre'] = movie_genre['genre'].apply(lambda x: x.split(\",\") if type(x)==str else x)\n",
    "movie_genre = movie_genre.explode('genre')"
   ]
  },
  {
   "cell_type": "code",
   "execution_count": null,
   "id": "155d8d31",
   "metadata": {},
   "outputs": [],
   "source": [
    "# Reducing columns and cleaning up\n",
    "movie_genre = movie_genre.drop(['title'], axis=1).reset_index(drop = True)\n",
    "movie_genre = movie_genre.apply(lambda x: x.strip() if isinstance(x, str) else x)"
   ]
  },
  {
   "cell_type": "code",
   "execution_count": null,
   "id": "e16d703c",
   "metadata": {},
   "outputs": [],
   "source": [
    "# List of genres in our database\n",
    "genre_list = list(movie_genre['genre'].unique())\n",
    "genre_list.sort()\n",
    "genre_list"
   ]
  },
  {
   "cell_type": "code",
   "execution_count": null,
   "id": "00d8e279",
   "metadata": {},
   "outputs": [],
   "source": [
    "# Creating dictionary with movie_IDs and mapping the dictionary on the genres column\n",
    "genre_dict = {\n",
    "    'Action': 1,\n",
    "    'Adventure': 2,\n",
    "    'Animation': 3,\n",
    "    'Comedy': 4,\n",
    "    'Crime': 5,\n",
    "    'Documentary': 6,\n",
    "    'Drama': 7,\n",
    "    'Family': 8,\n",
    "    'Fantasy': 9,\n",
    "    'History': 10,\n",
    "    'Horror': 11,\n",
    "    'Music': 12,\n",
    "    'Mystery': 13,\n",
    "    'Other/unspecified': 14,\n",
    "    'Romance': 15,\n",
    "    'Science Fiction': 16,\n",
    "    'TV Movie': 17,\n",
    "    'Thriller': 18,\n",
    "    'War': 19,\n",
    "    'Western': 20\n",
    "}\n",
    "movie_genre['genre'] = movie_genre['genre'].apply(lambda x: genre_dict.get(x,x)) # With .get, if None is encountered, it returns key"
   ]
  },
  {
   "cell_type": "code",
   "execution_count": null,
   "id": "36025918",
   "metadata": {},
   "outputs": [],
   "source": [
    "# Renaming column\n",
    "movie_genre = movie_genre.rename(columns={'genre': 'genre_ID'})"
   ]
  },
  {
   "cell_type": "code",
   "execution_count": null,
   "id": "e365e470",
   "metadata": {},
   "outputs": [],
   "source": [
    "# Exporting movie_info table (link between movies and genres)\n",
    "movie_genre.to_csv('movie_genre.csv', index=False)"
   ]
  },
  {
   "cell_type": "code",
   "execution_count": null,
   "id": "e16f0fb4",
   "metadata": {},
   "outputs": [],
   "source": [
    "# Preparing genres table (all genres with unique ID)\n",
    "genres = pd.DataFrame(\n",
    "    {'genre_ID': [i+1 for i in range(len(genre_list))],\n",
    "     'genre_name': genre_list\n",
    "    })\n",
    "genres"
   ]
  },
  {
   "cell_type": "code",
   "execution_count": null,
   "id": "5cd2702f",
   "metadata": {},
   "outputs": [],
   "source": [
    "# Exporting the genres table\n",
    "genres.to_csv('genres.csv', index=False)"
   ]
  }
 ],
 "metadata": {
  "kernelspec": {
   "display_name": "Python 3 (ipykernel)",
   "language": "python",
   "name": "python3"
  },
  "language_info": {
   "codemirror_mode": {
    "name": "ipython",
    "version": 3
   },
   "file_extension": ".py",
   "mimetype": "text/x-python",
   "name": "python",
   "nbconvert_exporter": "python",
   "pygments_lexer": "ipython3",
   "version": "3.11.4"
  }
 },
 "nbformat": 4,
 "nbformat_minor": 5
}
